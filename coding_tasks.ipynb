{
 "cells": [
  {
   "cell_type": "code",
   "execution_count": 12,
   "id": "e690e88e-3ad6-4797-9ed0-5b3460bcec68",
   "metadata": {},
   "outputs": [
    {
     "name": "stdout",
     "output_type": "stream",
     "text": [
      "Missing Number: 4\n"
     ]
    }
   ],
   "source": [
    "# Find Missing Number\n",
    "def find_missing_number(arr):\n",
    "    n = len(arr) + 1\n",
    "    expected_sum = n * (n + 1) // 2\n",
    "    actual_sum = sum(arr)\n",
    "    return expected_sum - actual_sum\n",
    "print(\"Missing Number:\", find_missing_number([1,2,3,5]))  "
   ]
  },
  {
   "cell_type": "code",
   "execution_count": 3,
   "id": "9d807482-f3c8-4f3c-899c-2b5ba91bd946",
   "metadata": {},
   "outputs": [
    {
     "name": "stdout",
     "output_type": "stream",
     "text": [
      "Balanced: True\n",
      "Balanced: False\n"
     ]
    }
   ],
   "source": [
    "# Check Balanced Parentheses\n",
    "def is_balanced_parentheses(s):\n",
    "    stack = []\n",
    "    mapping = {')':'(', '}':'{', ']':'['}\n",
    "    for char in s:\n",
    "        if char in mapping.values():\n",
    "            stack.append(char)\n",
    "        elif char in mapping.keys():\n",
    "            if not stack or stack[-1] != mapping[char]:\n",
    "                return False\n",
    "            stack.pop()\n",
    "    return not stack\n",
    "print(\"Balanced:\", is_balanced_parentheses(\"{[()]}\"))  \n",
    "print(\"Balanced:\", is_balanced_parentheses(\"{[(])}\"))   "
   ]
  },
  {
   "cell_type": "code",
   "execution_count": 4,
   "id": "3a3c644d-4c85-4dfa-a843-57a215e649de",
   "metadata": {},
   "outputs": [
    {
     "name": "stdout",
     "output_type": "stream",
     "text": [
      "Longest Word: programming\n"
     ]
    }
   ],
   "source": [
    "# Longest Word in a Sentence\n",
    "def longest_word(sentence):\n",
    "    words = sentence.split()\n",
    "    longest = max(words, key=len)\n",
    "    return longest\n",
    "print(\"Longest Word:\", longest_word(\"I am learning Python programming\"))"
   ]
  },
  {
   "cell_type": "code",
   "execution_count": 5,
   "id": "fc25c4d0-2b2d-48c3-906c-8536ed92db85",
   "metadata": {},
   "outputs": [
    {
     "name": "stdout",
     "output_type": "stream",
     "text": [
      "Word Count: 7\n"
     ]
    }
   ],
   "source": [
    "# Count Words in a Sentence\n",
    "def count_words(sentence):\n",
    "    return len(sentence.split())\n",
    "    \n",
    "print(\"Word Count:\", count_words(\"Python is powerful and easy to learn\"))"
   ]
  },
  {
   "cell_type": "code",
   "execution_count": 6,
   "id": "c5a3ea94-9ed1-4910-827d-30e71afb158e",
   "metadata": {},
   "outputs": [
    {
     "name": "stdout",
     "output_type": "stream",
     "text": [
      "Pythagorean Triplet: True\n",
      "Pythagorean Triplet: False\n"
     ]
    }
   ],
   "source": [
    "# Check Pythagorean Triplet\n",
    "def is_pythagorean_triplet(a, b, c):\n",
    "    x, y, z = sorted([a, b, c])\n",
    "    return x*x + y*y == z*z\n",
    "    \n",
    "print(\"Pythagorean Triplet:\", is_pythagorean_triplet(3,4,5)) \n",
    "print(\"Pythagorean Triplet:\", is_pythagorean_triplet(5,6,7)) "
   ]
  },
  {
   "cell_type": "code",
   "execution_count": 7,
   "id": "881310db-cd01-4fe1-8689-09f35229b567",
   "metadata": {},
   "outputs": [
    {
     "name": "stdout",
     "output_type": "stream",
     "text": [
      "Bubble Sorted: [11, 12, 22, 25, 34, 64, 90]\n"
     ]
    }
   ],
   "source": [
    "# Bubble Sort\n",
    "def bubble_sort(arr):\n",
    "    n = len(arr)\n",
    "    for i in range(n):\n",
    "        for j in range(0, n-i-1):\n",
    "            if arr[j] > arr[j+1]:\n",
    "                arr[j], arr[j+1] = arr[j+1], arr[j]\n",
    "    return arr\n",
    "print(\"Bubble Sorted:\", bubble_sort([64, 34, 25, 12, 22, 11, 90]))"
   ]
  },
  {
   "cell_type": "code",
   "execution_count": 8,
   "id": "ea1733ed-fcf2-4fef-8110-dcce913fd655",
   "metadata": {},
   "outputs": [
    {
     "name": "stdout",
     "output_type": "stream",
     "text": [
      "Index of 22: 2\n",
      "Index of 50: -1\n"
     ]
    }
   ],
   "source": [
    "# Binary Search\n",
    "def binary_search(arr, target):\n",
    "    left, right = 0, len(arr)-1\n",
    "    while left <= right:\n",
    "        mid = (left + right) // 2\n",
    "        if arr[mid] == target:\n",
    "            return mid\n",
    "        elif arr[mid] < target:\n",
    "            left = mid + 1\n",
    "        else:\n",
    "            right = mid - 1\n",
    "    return -1\n",
    "print(\"Index of 22:\", binary_search([11,12,22,25,34,64,90], 22))  # 2\n",
    "print(\"Index of 50:\", binary_search([11,12,22,25,34,64,90], 50))  # -1"
   ]
  },
  {
   "cell_type": "code",
   "execution_count": 9,
   "id": "b43c3a52-9d98-4cb9-a94d-f54fc636e237",
   "metadata": {},
   "outputs": [
    {
     "name": "stdout",
     "output_type": "stream",
     "text": [
      "Subarray indices: (1, 3)\n"
     ]
    }
   ],
   "source": [
    " # Find Subarray with Given Sum\n",
    "def subarray_with_sum(arr, target):\n",
    "    left, curr_sum = 0, 0\n",
    "    for right in range(len(arr)):\n",
    "        curr_sum += arr[right]\n",
    "        while curr_sum > target and left <= right:\n",
    "            curr_sum -= arr[left]\n",
    "            left += 1\n",
    "        if curr_sum == target:\n",
    "            return (left, right)\n",
    "    return -1\n",
    "print(\"Subarray indices:\", subarray_with_sum([1,2,3,7,5], 12))  # (1,3)"
   ]
  },
  {
   "cell_type": "code",
   "execution_count": 11,
   "id": "0e31ae37-211b-4952-a894-a9fc6a01358f",
   "metadata": {},
   "outputs": [
    {
     "name": "stdout",
     "output_type": "stream",
     "text": [
      "{'Top IPs': [('192.168.1.1', 3), ('192.168.1.2', 2), ('192.168.1.3', 1)], 'Top Status Codes': [('200', 4), ('401', 1), ('404', 1)], 'Top URLs': [('HTTP/1.1\"', 6)]}\n"
     ]
    }
   ],
   "source": [
    "# Create a sample log.txt file\n",
    "sample_logs = \"\"\"192.168.1.1 - - [28/Aug/2025:10:00:00] \"GET /index.html HTTP/1.1\" 200 1234\n",
    "192.168.1.2 - - [28/Aug/2025:10:01:00] \"POST /login HTTP/1.1\" 401 532\n",
    "192.168.1.1 - - [28/Aug/2025:10:02:00] \"GET /home HTTP/1.1\" 200 764\n",
    "192.168.1.3 - - [28/Aug/2025:10:03:00] \"GET /index.html HTTP/1.1\" 404 234\n",
    "192.168.1.2 - - [28/Aug/2025:10:04:00] \"GET /dashboard HTTP/1.1\" 200 892\n",
    "192.168.1.1 - - [28/Aug/2025:10:05:00] \"GET /profile HTTP/1.1\" 200 653\n",
    "\"\"\"\n",
    "with open(\"log.txt\", \"w\") as f:\n",
    "    f.write(sample_logs)\n",
    "    \n",
    "# Log Analysis System\n",
    "def log_analysis(file_path):\n",
    "    ip_count = {}\n",
    "    url_count = {}\n",
    "    status_count = {}\n",
    "\n",
    "    with open(file_path, 'r') as file:\n",
    "        for line in file:\n",
    "            parts = line.split()\n",
    "            if len(parts) < 9:   # skip invalid lines\n",
    "                continue  \n",
    "\n",
    "            ip = parts[0]        # First column = IP\n",
    "            status = parts[-2]   # Second last = Status code\n",
    "            url = parts[6]       # 7th column = URL\n",
    "\n",
    "            ip_count[ip] = ip_count.get(ip, 0) + 1\n",
    "            status_count[status] = status_count.get(status, 0) + 1\n",
    "            url_count[url] = url_count.get(url, 0) + 1\n",
    "\n",
    "    return {\n",
    "        \"Top IPs\": sorted(ip_count.items(), key=lambda x: x[1], reverse=True)[:5],\n",
    "        \"Top Status Codes\": sorted(status_count.items(), key=lambda x: x[1], reverse=True),\n",
    "        \"Top URLs\": sorted(url_count.items(), key=lambda x: x[1], reverse=True)[:5]\n",
    "    }\n",
    "print(log_analysis(\"log.txt\"))"
   ]
  },
  {
   "cell_type": "code",
   "execution_count": null,
   "id": "1693c211-1f51-4c3d-850d-9c596729c465",
   "metadata": {},
   "outputs": [],
   "source": []
  }
 ],
 "metadata": {
  "kernelspec": {
   "display_name": "Python [conda env:base] *",
   "language": "python",
   "name": "conda-base-py"
  },
  "language_info": {
   "codemirror_mode": {
    "name": "ipython",
    "version": 3
   },
   "file_extension": ".py",
   "mimetype": "text/x-python",
   "name": "python",
   "nbconvert_exporter": "python",
   "pygments_lexer": "ipython3",
   "version": "3.12.7"
  }
 },
 "nbformat": 4,
 "nbformat_minor": 5
}
