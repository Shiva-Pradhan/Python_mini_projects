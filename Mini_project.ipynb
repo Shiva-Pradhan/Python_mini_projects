{
 "cells": [
  {
   "cell_type": "code",
   "execution_count": 8,
   "id": "8056466e-5dfc-4b86-b2ae-457f26f7f208",
   "metadata": {},
   "outputs": [
    {
     "name": "stdout",
     "output_type": "stream",
     "text": [
      "abc  acb  bac  bca  cab  cba  "
     ]
    }
   ],
   "source": [
    "#Find All Permutations of a String\n",
    "def permute(s, answer=\"\"):\n",
    "    if len(s) == 0:\n",
    "        print(answer, end=\"  \")\n",
    "        return\n",
    "    for i in range(len(s)):\n",
    "        ch = s[i]\n",
    "        left = s[:i]\n",
    "        right = s[i+1:]\n",
    "        permute(left+right, answer+ch)\n",
    "        \n",
    "permute(\"abc\")"
   ]
  },
  {
   "cell_type": "code",
   "execution_count": 10,
   "id": "fd32d5df-cba1-45d9-b61d-b56806b7c605",
   "metadata": {},
   "outputs": [
    {
     "name": "stdout",
     "output_type": "stream",
     "text": [
      "55\n"
     ]
    }
   ],
   "source": [
    "# N-th Fibonacci Number \n",
    "def fibonacci(n):\n",
    "    if n <= 1:\n",
    "        return n  \n",
    "    dp = [0]*(n+1)\n",
    "    dp[1] = 1\n",
    "    for i in range(2, n+1):\n",
    "        dp[i] = dp[i-1] + dp[i-2]\n",
    "    return dp[n]\n",
    "    \n",
    "print(fibonacci(10))  "
   ]
  },
  {
   "cell_type": "code",
   "execution_count": 11,
   "id": "909fbd45-d0e0-4085-a70e-b527137ecfb0",
   "metadata": {},
   "outputs": [
    {
     "name": "stdout",
     "output_type": "stream",
     "text": [
      "[2, 1]\n"
     ]
    }
   ],
   "source": [
    "# Find Duplicates in a List\n",
    "def find_duplicates(lst):\n",
    "    duplicates = []\n",
    "    seen = []\n",
    "    \n",
    "    for num in lst:\n",
    "        if num in seen and num not in duplicates:\n",
    "            duplicates.append(num)\n",
    "        else:\n",
    "            seen.append(num)\n",
    "    return duplicates\n",
    "    \n",
    "print(find_duplicates([1, 2, 3, 2, 4, 5, 1, 6]))  \n"
   ]
  },
  {
   "cell_type": "code",
   "execution_count": 12,
   "id": "4dec7cd6-2726-4c4d-b5e6-442132a08d95",
   "metadata": {},
   "outputs": [
    {
     "name": "stdout",
     "output_type": "stream",
     "text": [
      "4\n"
     ]
    }
   ],
   "source": [
    "#Longest Increasing Subsequence \n",
    "def LIS(arr):\n",
    "    n = len(arr)\n",
    "    dp = [1]*n  # every element is LIS of length 1\n",
    "    \n",
    "    for i in range(1, n):\n",
    "        for j in range(i):\n",
    "            if arr[i] > arr[j]:\n",
    "                dp[i] = max(dp[i], dp[j]+1)\n",
    "    return max(dp)\n",
    "\n",
    "print(LIS([10,9,2,5,3,7,101,18]))  # 4\n"
   ]
  },
  {
   "cell_type": "code",
   "execution_count": 14,
   "id": "93d5eafa-5b47-4f64-9070-d965ba65fbcb",
   "metadata": {},
   "outputs": [
    {
     "name": "stdout",
     "output_type": "stream",
     "text": [
      "[12, 11, 5]\n"
     ]
    }
   ],
   "source": [
    "#Find K Largest Elements\n",
    "import heapq\n",
    "def k_largest_elements(arr, k):\n",
    "    return heapq.nlargest(k, arr)\n",
    "    \n",
    "print(k_largest_elements([3,1,5,12,2,11], 3))  # [12, 11, 5]\n"
   ]
  },
  {
   "cell_type": "code",
   "execution_count": 15,
   "id": "d8ea13d5-0edf-4115-97d7-adee638ae8bc",
   "metadata": {},
   "outputs": [
    {
     "name": "stdout",
     "output_type": "stream",
     "text": [
      "[[7, 4, 1], [8, 5, 2], [9, 6, 3]]\n"
     ]
    }
   ],
   "source": [
    "# Rotate Matrix 90° Clockwise\n",
    "def rotate_matrix(matrix):\n",
    "    return [list(row)[::-1] for row in zip(*matrix)]\n",
    "mat = [\n",
    "    [1,2,3],\n",
    "    [4,5,6],\n",
    "    [7,8,9]\n",
    "]\n",
    "print(rotate_matrix(mat))"
   ]
  },
  {
   "cell_type": "code",
   "execution_count": 16,
   "id": "aac8ab10-3508-4656-acc9-a769e2e07b7f",
   "metadata": {},
   "outputs": [
    {
     "name": "stdout",
     "output_type": "stream",
     "text": [
      "True\n"
     ]
    }
   ],
   "source": [
    "# Sudoku Validator\n",
    "def is_valid_sudoku(board):\n",
    "    # check row & col\n",
    "    for i in range(9):\n",
    "        row = [num for num in board[i] if num != '.']\n",
    "        col = [board[r][i] for r in range(9) if board[r][i] != '.']\n",
    "        if len(row) != len(set(row)) or len(col) != len(set(col)):\n",
    "            return False\n",
    "    \n",
    "    # check 3x3 grids\n",
    "    for i in range(0,9,3):\n",
    "        for j in range(0,9,3):\n",
    "            grid = []\n",
    "            for r in range(i,i+3):\n",
    "                for c in range(j,j+3):\n",
    "                    if board[r][c] != '.':\n",
    "                        grid.append(board[r][c])\n",
    "            if len(grid) != len(set(grid)):\n",
    "                return False\n",
    "    return True\n",
    "board = [\n",
    "    [\"5\",\"3\",\".\",\".\",\"7\",\".\",\".\",\".\",\".\"],\n",
    "    [\"6\",\".\",\".\",\"1\",\"9\",\"5\",\".\",\".\",\".\"],\n",
    "    [\".\",\"9\",\"8\",\".\",\".\",\".\",\".\",\"6\",\".\"],\n",
    "    [\"8\",\".\",\".\",\".\",\"6\",\".\",\".\",\".\",\"3\"],\n",
    "    [\"4\",\".\",\".\",\"8\",\".\",\"3\",\".\",\".\",\"1\"],\n",
    "    [\"7\",\".\",\".\",\".\",\"2\",\".\",\".\",\".\",\"6\"],\n",
    "    [\".\",\"6\",\".\",\".\",\".\",\".\",\"2\",\"8\",\".\"],\n",
    "    [\".\",\".\",\".\",\"4\",\"1\",\"9\",\".\",\".\",\"5\"],\n",
    "    [\".\",\".\",\".\",\".\",\"8\",\".\",\".\",\"7\",\"9\"]\n",
    "]\n",
    "print(is_valid_sudoku(board))  # True\n"
   ]
  },
  {
   "cell_type": "code",
   "execution_count": 17,
   "id": "608185bf-a4e6-4f6a-808c-29821f8dd054",
   "metadata": {},
   "outputs": [
    {
     "name": "stdout",
     "output_type": "stream",
     "text": [
      "Balance: 1000\n",
      "Stocks: {'AAPL': 100, 'GOOG': 200, 'TSLA': 150}\n",
      "Portfolio: {}\n",
      "Bought 3 AAPL at 100 each\n",
      "Sold 1 AAPL at 107.89 each\n",
      "Balance: 807.89\n",
      "Stocks: {'AAPL': 107.89, 'GOOG': 188.72, 'TSLA': 152.1}\n",
      "Portfolio: {'AAPL': 2}\n"
     ]
    }
   ],
   "source": [
    "#  Mini Project: Virtual Stock Market Simulator\n",
    "import random\n",
    "class VirtualStockMarket:\n",
    "    def __init__(self):\n",
    "        self.stocks = {\"AAPL\": 100, \"GOOG\": 200, \"TSLA\": 150}\n",
    "        self.portfolio = {}\n",
    "        self.balance = 1000\n",
    "    \n",
    "    def update_prices(self):\n",
    "        for stock in self.stocks:\n",
    "            change = random.uniform(-0.1, 0.1)  # -10% to +10%\n",
    "            self.stocks[stock] = round(self.stocks[stock]*(1+change),2)\n",
    "    \n",
    "    def buy(self, stock, qty):\n",
    "        cost = self.stocks[stock]*qty\n",
    "        if cost <= self.balance:\n",
    "            self.balance -= cost\n",
    "            self.portfolio[stock] = self.portfolio.get(stock,0)+qty\n",
    "            print(f\"Bought {qty} {stock} at {self.stocks[stock]} each\")\n",
    "        else:\n",
    "            print(\"Not enough balance!\")\n",
    "    \n",
    "    def sell(self, stock, qty):\n",
    "        if self.portfolio.get(stock,0) >= qty:\n",
    "            self.portfolio[stock] -= qty\n",
    "            self.balance += self.stocks[stock]*qty\n",
    "            print(f\"Sold {qty} {stock} at {self.stocks[stock]} each\")\n",
    "        else:\n",
    "            print(\"Not enough stocks to sell!\")\n",
    "    \n",
    "    def show_status(self):\n",
    "        print(f\"Balance: {self.balance}\")\n",
    "        print(f\"Stocks: {self.stocks}\")\n",
    "        print(f\"Portfolio: {self.portfolio}\")\n",
    "        \n",
    "market = VirtualStockMarket()\n",
    "market.show_status()\n",
    "market.buy(\"AAPL\", 3)\n",
    "market.update_prices()\n",
    "market.sell(\"AAPL\", 1)\n",
    "market.show_status()"
   ]
  },
  {
   "cell_type": "code",
   "execution_count": null,
   "id": "4d0fbdc8-31d1-4d6f-81cb-c33044275f65",
   "metadata": {},
   "outputs": [],
   "source": []
  }
 ],
 "metadata": {
  "kernelspec": {
   "display_name": "Python [conda env:base] *",
   "language": "python",
   "name": "conda-base-py"
  },
  "language_info": {
   "codemirror_mode": {
    "name": "ipython",
    "version": 3
   },
   "file_extension": ".py",
   "mimetype": "text/x-python",
   "name": "python",
   "nbconvert_exporter": "python",
   "pygments_lexer": "ipython3",
   "version": "3.12.7"
  }
 },
 "nbformat": 4,
 "nbformat_minor": 5
}
